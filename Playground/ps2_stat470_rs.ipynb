{
 "cells": [
  {
   "cell_type": "code",
   "execution_count": 6,
   "metadata": {},
   "outputs": [
    {
     "name": "stdout",
     "output_type": "stream",
     "text": [
      "x = 4, t = 19, discount rate: 0.0757 = 7.57%\n",
      "Initial Sum $1000 -> $4000.00 in 19 years\n",
      "Expected Growth: $4000.00\n"
     ]
    }
   ],
   "source": [
    "# code created by Rishabh Sinha\n",
    "def discount_rate(x, t):\n",
    "    return x**(1/t) - 1\n",
    "\n",
    "print(f\"x = {4}, t = {19}, discount rate: {discount_rate(4, 19):.4f} = {discount_rate(4, 19)*100:.2f}%\")\n",
    "\n",
    "k, x, t = 1000, 4, 19\n",
    "print(f\"Initial Sum ${k} -> ${k * (1 + rate)**t:.2f} in {t} years\")\n",
    "print(f\"Expected Growth: ${k * x:.2f}\")"
   ]
  },
  {
   "cell_type": "markdown",
   "metadata": {},
   "source": [
    "1000(1 + 0.0757)^19 = 4000.6652\n",
    "A 4x increase after 19 years is 1000 x 4 = 4000.\n",
    "Thus verified by hand calculations"
   ]
  },
  {
   "cell_type": "code",
   "execution_count": 13,
   "metadata": {},
   "outputs": [
    {
     "name": "stdout",
     "output_type": "stream",
     "text": [
      "            t       B_t    W_t       i_t\n",
      "0    1/1/2023  200000.0      0       NaN\n",
      "1    3/1/2023  197500.0  10000 -0.012500\n",
      "2    4/1/2023  212000.0  -2000  0.021687\n",
      "3    6/1/2023  216000.0  -1500  0.028571\n",
      "4    9/1/2023  215000.0   4000  0.002331\n",
      "5   10/1/2023  221500.0   3500  0.011416\n",
      "6   11/1/2023  224000.0   1500 -0.004444\n",
      "7  12/31/2023  231000.0      0  0.024390\n",
      "\n",
      "Time-weighted rate of return for 2023: 0.0729 or 7.29%\n"
     ]
    }
   ],
   "source": [
    "# code created by Rishabh Sinha\n",
    "import pandas as pd\n",
    "import numpy as np\n",
    "\n",
    "data = {\n",
    "    't': ['1/1/2023', '3/1/2023', '4/1/2023', '6/1/2023', \n",
    "             '9/1/2023', '10/1/2023', '11/1/2023', '12/31/2023'],\n",
    "    'B_t': [200000, 197500, 212000, 216000, 215000, 221500, 224000, None],\n",
    "    'W_t': [0, 10000, -2000, -1500, 4000, 3500, 1500, 0],\n",
    "    'B_t_next_period': [200000, 207500, 210000, 214500, 219000, 225000, 225500, 231000]\n",
    "}\n",
    "\n",
    "df = pd.DataFrame(data)\n",
    "df.loc[7, 'B_t'] = df.loc[7, 'B_t_next_period']\n",
    "df['i_t'] = np.nan\n",
    "\n",
    "for i in range(1, len(df)):\n",
    "    df.loc[i, 'i_t'] = (df.loc[i, 'B_t'] / (df.loc[i-1, 'B_t'] + df.loc[i-1, 'W_t'])) - 1\n",
    "    \n",
    "print(df[['t', 'B_t', 'W_t', 'i_t']])\n",
    "print(f\"\\nTime-weighted rate of return for 2023: {(np.prod(1 + df['i_t'][1:]) - 1):.4f} or {(np.prod(1 + df['i_t'][1:]) - 1)*100:.2f}%\")"
   ]
  },
  {
   "cell_type": "code",
   "execution_count": null,
   "metadata": {},
   "outputs": [],
   "source": []
  }
 ],
 "metadata": {
  "kernelspec": {
   "display_name": "Python 3 (ipykernel)",
   "language": "python",
   "name": "python3"
  },
  "language_info": {
   "codemirror_mode": {
    "name": "ipython",
    "version": 3
   },
   "file_extension": ".py",
   "mimetype": "text/x-python",
   "name": "python",
   "nbconvert_exporter": "python",
   "pygments_lexer": "ipython3",
   "version": "3.11.2"
  }
 },
 "nbformat": 4,
 "nbformat_minor": 4
}
